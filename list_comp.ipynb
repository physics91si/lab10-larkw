{
 "cells": [
  {
   "cell_type": "code",
   "execution_count": 1,
   "metadata": {},
   "outputs": [],
   "source": [
    "import string"
   ]
  },
  {
   "cell_type": "code",
   "execution_count": 26,
   "metadata": {},
   "outputs": [
    {
     "name": "stdout",
     "output_type": "stream",
     "text": [
      "['a', 'b', 'c', 'd', 'e', 'f', 'g', 'h', 'i', 'j', 'k', 'l', 'm', 'n', 'o', 'p', 'q', 'r', 's', 't', 'u', 'v', 'w', 'x', 'y', 'z']\n"
     ]
    }
   ],
   "source": [
    "s = string.ascii_lowercase\n",
    "list1 = [x for x in s]\n",
    "print(list1)"
   ]
  },
  {
   "cell_type": "code",
   "execution_count": 30,
   "metadata": {},
   "outputs": [
    {
     "name": "stdout",
     "output_type": "stream",
     "text": [
      "['a', 'b', 'c', 'd', 'e', 'f', 'g', 'h', 'i', 'j']\n",
      "['a', 'b', 'c', 'd', 'e', 'g', 'h', 'i', 'j']\n",
      "['a', 'aa', 'aaa', 'b', 'bb', 'bbb', 'c', 'cc', 'ccc', 'd', 'dd', 'ddd', 'e', 'ee', 'eee', 'g', 'gg', 'ggg', 'h', 'hh', 'hhh', 'i', 'ii', 'iii', 'j', 'jj', 'jjj']\n",
      "[['a', 'aa', 'aaa'], ['b', 'bb', 'bbb'], ['c', 'cc', 'ccc'], ['d', 'dd', 'ddd'], ['e', 'ee', 'eee'], ['g', 'gg', 'ggg'], ['h', 'hh', 'hhh'], ['i', 'ii', 'iii'], ['j', 'jj', 'jjj']]\n",
      "[['A', 'aa', 'aaa'], ['B', 'bb', 'bbb'], ['C', 'cc', 'ccc'], ['D', 'dd', 'ddd'], ['E', 'ee', 'eee'], ['G', 'gg', 'ggg'], ['H', 'hh', 'hhh'], ['I', 'ii', 'iii'], ['J', 'jj', 'jjj']]\n"
     ]
    }
   ],
   "source": [
    "list_num = list(enumerate(list1))\n",
    "list10 = [letter for i,letter in list_num if i < 10]\n",
    "print(list10)\n",
    "\n",
    "list10_not_six = [letter for i,letter in list_num if i < 10 and i != 5]\n",
    "print(list10_not_six)\n",
    "\n",
    "list10_repeat = [letter*j for i,letter in list_num if i < 10 and i != 5 for j in range(1,4)]\n",
    "print(list10_repeat )\n",
    "\n",
    "list10_repeat_grid = [ [letter*j for j in range(1,4)] for i,letter in list_num if i < 10 and i != 5]\n",
    "print(list10_repeat_grid)\n",
    "\n",
    "#Note: I'm confused about the instructions given about index mod 3 (for example, what number is it talking about?, \n",
    "#but it seems equivalent to capitalizing the first letter in every sublist: \n",
    "list10_grid_cap = [ [letter.capitalize() if j == 1 else letter*j for j in range(1,4)] for i,letter in list_num if i < 10 and i != 5]\n",
    "print(list10_grid_cap)"
   ]
  },
  {
   "cell_type": "code",
   "execution_count": null,
   "metadata": {},
   "outputs": [],
   "source": []
  },
  {
   "cell_type": "code",
   "execution_count": null,
   "metadata": {},
   "outputs": [],
   "source": []
  }
 ],
 "metadata": {
  "kernelspec": {
   "display_name": "Python 3",
   "language": "python",
   "name": "python3"
  },
  "language_info": {
   "codemirror_mode": {
    "name": "ipython",
    "version": 3
   },
   "file_extension": ".py",
   "mimetype": "text/x-python",
   "name": "python",
   "nbconvert_exporter": "python",
   "pygments_lexer": "ipython3",
   "version": "3.6.4"
  }
 },
 "nbformat": 4,
 "nbformat_minor": 2
}
