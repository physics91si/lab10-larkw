{
 "cells": [
  {
   "cell_type": "code",
   "execution_count": 11,
   "metadata": {
    "scrolled": false
   },
   "outputs": [
    {
     "name": "stdout",
     "output_type": "stream",
     "text": [
      "[1, 4, 9, 16, 25, 36, 49, 64, 81, 100]\n",
      "[1, 4, 9, 16, 25, 36, 49, 64, 81, 100]\n",
      "120\n",
      "['test1.py', 'test2.py', 'test3.py']\n",
      "['test1', 'test2', 'test3']\n",
      "['test1.py', 'test2.py', 'lark.doc', 'test3.py', 'wang.pdf']\n",
      "['test1', 'test2', 'test3']\n"
     ]
    }
   ],
   "source": [
    "import numpy as np\n",
    "from functools import reduce\n",
    "import string\n",
    "\n",
    "#squares:\n",
    "squares = [i*i for i in range(1,11)]\n",
    "print(squares)\n",
    "\n",
    "f = lambda x : (x * x)\n",
    "g = map(f , [1, 2, 3, 4, 5, 6, 7, 8, 9, 10])\n",
    "h = list(g)\n",
    "print(h)\n",
    "\n",
    "#products:\n",
    "a = lambda x,y : x * y\n",
    "b = reduce(a, [1, 2, 3, 4, 5])\n",
    "print(b)\n",
    "\n",
    "#file names:\n",
    "string = \"test1.py test2.py test3.py\"\n",
    "names = string.split(\" \")\n",
    "print(names)\n",
    "just_names = [name.replace(\".py\",\"\") for name in names]\n",
    "print(just_names)\n",
    "\n",
    "#file names bonus:\n",
    "string_2 = \"test1.py test2.py lark.doc test3.py wang.pdf\"\n",
    "names_2 = string_2.split(\" \")\n",
    "print(names_2)\n",
    "just_py = [name2.replace(\".py\",\"\") for name2 in names_2 if \".py\" in name2]\n",
    "print(just_py)"
   ]
  },
  {
   "cell_type": "code",
   "execution_count": null,
   "metadata": {},
   "outputs": [],
   "source": []
  }
 ],
 "metadata": {
  "kernelspec": {
   "display_name": "Python 3",
   "language": "python",
   "name": "python3"
  },
  "language_info": {
   "codemirror_mode": {
    "name": "ipython",
    "version": 3
   },
   "file_extension": ".py",
   "mimetype": "text/x-python",
   "name": "python",
   "nbconvert_exporter": "python",
   "pygments_lexer": "ipython3",
   "version": "3.6.4"
  }
 },
 "nbformat": 4,
 "nbformat_minor": 2
}
